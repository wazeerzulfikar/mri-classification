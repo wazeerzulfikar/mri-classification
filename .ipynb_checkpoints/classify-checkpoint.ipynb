{
 "cells": [
  {
   "cell_type": "code",
   "execution_count": 1,
   "metadata": {},
   "outputs": [
    {
     "name": "stderr",
     "output_type": "stream",
     "text": [
      "/usr/local/lib/python3.6/site-packages/h5py/__init__.py:36: FutureWarning: Conversion of the second argument of issubdtype from `float` to `np.floating` is deprecated. In future, it will be treated as `np.float64 == np.dtype(float).type`.\n",
      "  from ._conv import register_converters as _register_converters\n"
     ]
    }
   ],
   "source": [
    "# from nibabel.testing import data_path\n",
    "import numpy as np\n",
    "import os\n",
    "import nibabel as nib\n",
    "import cv2\n",
    "import math"
   ]
  },
  {
   "cell_type": "code",
   "execution_count": 2,
   "metadata": {},
   "outputs": [],
   "source": [
    "def read_mri_image(filename):\n",
    "    img = nib.load(filename)\n",
    "    return img.get_data()"
   ]
  },
  {
   "cell_type": "code",
   "execution_count": 3,
   "metadata": {},
   "outputs": [],
   "source": [
    "path = './data'\n",
    "\n",
    "image_set = []\n",
    "label_set = []\n",
    "\n",
    "def load_data(path):\n",
    "    if path.endswith('nii.gz'):\n",
    "        image_set.append(read_mri_image(path)) \n",
    "        if len(image_set)%10==0:\n",
    "            print(len(image_set))\n",
    "        if 'anat' in path:\n",
    "            label_set.append(0)\n",
    "        else:\n",
    "            label_set.append(1)\n",
    "    elif os.path.isdir(path):\n",
    "        for file in os.listdir(path):\n",
    "            load_data(os.path.join(path,file))\n"
   ]
  },
  {
   "cell_type": "code",
   "execution_count": 4,
   "metadata": {
    "scrolled": true
   },
   "outputs": [
    {
     "name": "stdout",
     "output_type": "stream",
     "text": [
      "10\n",
      "20\n",
      "30\n",
      "40\n",
      "50\n",
      "60\n",
      "70\n",
      "80\n",
      "90\n",
      "100\n",
      "110\n",
      "120\n",
      "130\n",
      "140\n",
      "150\n",
      "160\n",
      "170\n",
      "180\n",
      "190\n",
      "200\n",
      "210\n",
      "220\n",
      "230\n",
      "240\n",
      "250\n",
      "260\n",
      "270\n",
      "280\n",
      "290\n",
      "300\n",
      "310\n",
      "320\n"
     ]
    }
   ],
   "source": [
    "# images, labels = prepare_data(path)\n",
    "load_data(path)"
   ]
  },
  {
   "cell_type": "code",
   "execution_count": 6,
   "metadata": {},
   "outputs": [
    {
     "name": "stdout",
     "output_type": "stream",
     "text": [
      "[(64, 64, 32, 130) (64, 64, 32, 132) (64, 64, 32, 133) (64, 64, 32, 184)\n",
      " (64, 64, 32, 240) (64, 64, 32, 360) (64, 64, 32, 480) (64, 64, 32, 724)\n",
      " (256, 256, 176) (256, 256, 256)]\n"
     ]
    }
   ],
   "source": [
    "old_images = np.array(image_set)\n",
    "labels = np.array(label_set)\n",
    "image_shapes = np.array([i.shape for i in old_images])\n",
    "print(np.unique(image_shapes))\n"
   ]
  },
  {
   "cell_type": "code",
   "execution_count": 8,
   "metadata": {
    "scrolled": true
   },
   "outputs": [],
   "source": [
    "images = []\n",
    "for i in range(len(old_images)):\n",
    "    new_i = old_images[i]\n",
    "    if len(old_images[i].shape) == 4:\n",
    "        new_i = np.mean(new_i,axis=3)\n",
    "    new_i = np.mean(new_i,axis=2)\n",
    "    images.append(new_i)"
   ]
  },
  {
   "cell_type": "code",
   "execution_count": 1,
   "metadata": {},
   "outputs": [],
   "source": [
    "for i in range(len(images)):\n",
    "    images[i] = cv2.resize(images[i],(32,32))"
   ]
  },
  {
   "cell_type": "code",
   "execution_count": 46,
   "metadata": {},
   "outputs": [
    {
     "name": "stdout",
     "output_type": "stream",
     "text": [
      "(323,)\n"
     ]
    }
   ],
   "source": [
    "print(labels.shape)"
   ]
  },
  {
   "cell_type": "code",
   "execution_count": 47,
   "metadata": {},
   "outputs": [],
   "source": [
    "import keras\n",
    "x = np.array(images) / 255.\n",
    "y = keras.utils.to_categorical(labels,num_classes=2)"
   ]
  },
  {
   "cell_type": "code",
   "execution_count": 48,
   "metadata": {},
   "outputs": [
    {
     "name": "stdout",
     "output_type": "stream",
     "text": [
      "(323, 32, 32) (323, 2)\n"
     ]
    }
   ],
   "source": [
    "print(x.shape, y.shape)"
   ]
  },
  {
   "cell_type": "code",
   "execution_count": 2,
   "metadata": {},
   "outputs": [],
   "source": [
    "x = np.reshape(x,(-1,32,32,1))"
   ]
  },
  {
   "cell_type": "code",
   "execution_count": 64,
   "metadata": {},
   "outputs": [],
   "source": [
    "from keras.models import Sequential\n",
    "from keras.layers import Conv2D, Dense, Flatten, MaxPooling2D, Dropout\n",
    "\n",
    "model = Sequential()\n",
    "model.add(Conv2D(32,3,input_shape=(32,32,1),activation='relu'))\n",
    "model.add(Conv2D(32,3,activation='relu'))\n",
    "model.add(MaxPooling2D())\n",
    "model.add(Flatten())\n",
    "model.add(Dense(128,activation='relu'))\n",
    "model.add(Dropout(0.5))\n",
    "model.add(Dense(2,activation='softmax'))\n",
    "\n",
    "model.compile(loss='categorical_crossentropy',metrics=['accuracy'],optimizer='adam')"
   ]
  },
  {
   "cell_type": "code",
   "execution_count": 65,
   "metadata": {
    "scrolled": true
   },
   "outputs": [
    {
     "name": "stdout",
     "output_type": "stream",
     "text": [
      "Train on 258 samples, validate on 65 samples\n",
      "Epoch 1/10\n",
      "258/258 [==============================] - 2s 6ms/step - loss: 0.2239 - acc: 0.8682 - val_loss: 0.0086 - val_acc: 1.0000\n",
      "Epoch 2/10\n",
      "258/258 [==============================] - 1s 3ms/step - loss: 0.0018 - acc: 1.0000 - val_loss: 3.7396e-06 - val_acc: 1.0000\n",
      "Epoch 3/10\n",
      "258/258 [==============================] - 1s 3ms/step - loss: 3.8711e-04 - acc: 1.0000 - val_loss: 3.9954e-06 - val_acc: 1.0000\n",
      "Epoch 4/10\n",
      "258/258 [==============================] - 1s 2ms/step - loss: 4.2617e-04 - acc: 1.0000 - val_loss: 1.3746e-06 - val_acc: 1.0000\n",
      "Epoch 5/10\n",
      "258/258 [==============================] - 1s 2ms/step - loss: 5.4709e-04 - acc: 1.0000 - val_loss: 6.3548e-07 - val_acc: 1.0000\n",
      "Epoch 6/10\n",
      "258/258 [==============================] - 1s 3ms/step - loss: 7.3269e-05 - acc: 1.0000 - val_loss: 1.0105e-06 - val_acc: 1.0000\n",
      "Epoch 7/10\n",
      "258/258 [==============================] - 1s 3ms/step - loss: 7.6147e-04 - acc: 1.0000 - val_loss: 5.0802e-07 - val_acc: 1.0000\n",
      "Epoch 8/10\n",
      "258/258 [==============================] - 1s 3ms/step - loss: 1.5216e-04 - acc: 1.0000 - val_loss: 2.5951e-07 - val_acc: 1.0000\n",
      "Epoch 9/10\n",
      "258/258 [==============================] - 1s 3ms/step - loss: 3.5002e-06 - acc: 1.0000 - val_loss: 2.1641e-07 - val_acc: 1.0000\n",
      "Epoch 10/10\n",
      "258/258 [==============================] - 1s 3ms/step - loss: 1.1143e-04 - acc: 1.0000 - val_loss: 1.8340e-07 - val_acc: 1.0000\n"
     ]
    },
    {
     "data": {
      "text/plain": [
       "<keras.callbacks.History at 0x491c8fb70>"
      ]
     },
     "execution_count": 65,
     "metadata": {},
     "output_type": "execute_result"
    }
   ],
   "source": [
    "model.fit(x,y,epochs=10,validation_split=0.2,batch_size=16)"
   ]
  }
 ],
 "metadata": {
  "kernelspec": {
   "display_name": "Python 3",
   "language": "python",
   "name": "python3"
  },
  "language_info": {
   "codemirror_mode": {
    "name": "ipython",
    "version": 3
   },
   "file_extension": ".py",
   "mimetype": "text/x-python",
   "name": "python",
   "nbconvert_exporter": "python",
   "pygments_lexer": "ipython3",
   "version": "3.6.4"
  }
 },
 "nbformat": 4,
 "nbformat_minor": 2
}
